{
  "nbformat": 4,
  "nbformat_minor": 0,
  "metadata": {
    "colab": {
      "name": "Aus_weather.ipynb",
      "version": "0.3.2",
      "provenance": [],
      "collapsed_sections": [],
      "include_colab_link": true
    },
    "kernelspec": {
      "name": "python3",
      "display_name": "Python 3"
    }
  },
  "cells": [
    {
      "cell_type": "markdown",
      "metadata": {
        "id": "view-in-github",
        "colab_type": "text"
      },
      "source": [
        "<a href=\"https://colab.research.google.com/github/RoshanPanda/pytorch/blob/master/Aus_weather.ipynb\" target=\"_parent\"><img src=\"https://colab.research.google.com/assets/colab-badge.svg\" alt=\"Open In Colab\"/></a>"
      ]
    },
    {
      "metadata": {
        "id": "ohkb8vbH-9cb",
        "colab_type": "code",
        "outputId": "bb737579-3eaa-4d6d-ac44-2fd78a5a37a4",
        "colab": {
          "base_uri": "https://localhost:8080/",
          "height": 51
        }
      },
      "cell_type": "code",
      "source": [
        "cd roshan/"
      ],
      "execution_count": 207,
      "outputs": [
        {
          "output_type": "stream",
          "text": [
            "[Errno 2] No such file or directory: 'roshan/'\n",
            "/content/roshan/My Drive\n"
          ],
          "name": "stdout"
        }
      ]
    },
    {
      "metadata": {
        "id": "dVHIMwMmTG1T",
        "colab_type": "code",
        "outputId": "b65232cd-e599-4cf6-9463-2846cdefa9dd",
        "colab": {
          "base_uri": "https://localhost:8080/",
          "height": 51
        }
      },
      "cell_type": "code",
      "source": [
        "cd 'My Drive'"
      ],
      "execution_count": 208,
      "outputs": [
        {
          "output_type": "stream",
          "text": [
            "[Errno 2] No such file or directory: 'My Drive'\n",
            "/content/roshan/My Drive\n"
          ],
          "name": "stdout"
        }
      ]
    },
    {
      "metadata": {
        "id": "_evC99Lh8j8s",
        "colab_type": "text"
      },
      "cell_type": "markdown",
      "source": [
        ""
      ]
    },
    {
      "metadata": {
        "id": "U8L7SeJjBsO4",
        "colab_type": "code",
        "colab": {}
      },
      "cell_type": "code",
      "source": [
        "\n",
        "\n"
      ],
      "execution_count": 0,
      "outputs": []
    },
    {
      "metadata": {
        "id": "qCg91k-UHely",
        "colab_type": "code",
        "colab": {}
      },
      "cell_type": "code",
      "source": [
        "import torch\n",
        "from torch.autograd import Variable\n",
        "import torch.nn as nn\n",
        "import pandas as pd\n",
        "import numpy as np\n",
        "import matplotlib.pyplot as plt\n",
        "from sklearn import preprocessing\n",
        "from sklearn.preprocessing import StandardScaler\n",
        "from torch.utils.data import Dataset, DataLoader, TensorDataset\n",
        "import seaborn as sns\n",
        "from scipy import stats\n",
        "from sklearn.model_selection import train_test_split \n",
        "from sklearn.ensemble import RandomForestClassifier\n",
        "from sklearn.metrics import confusion_matrix, accuracy_score\n",
        "from sklearn.feature_selection import RFE"
      ],
      "execution_count": 0,
      "outputs": []
    },
    {
      "metadata": {
        "id": "x3ywDq2PHhco",
        "colab_type": "text"
      },
      "cell_type": "markdown",
      "source": [
        "**We will try to predict using feed forward neural net with pytorch and random forest.**"
      ]
    },
    {
      "metadata": {
        "id": "IFWXoNXMHxuk",
        "colab_type": "code",
        "colab": {}
      },
      "cell_type": "code",
      "source": [
        "\n",
        "\n",
        "\n",
        "weather_data=pd.read_csv(\"weatherAUS.csv\")\n"
      ],
      "execution_count": 0,
      "outputs": []
    },
    {
      "metadata": {
        "id": "fDeWv6XvRwyA",
        "colab_type": "code",
        "outputId": "af056dd1-dcd0-4bea-ae89-f73981125959",
        "colab": {
          "base_uri": "https://localhost:8080/",
          "height": 338
        }
      },
      "cell_type": "code",
      "source": [
        "weather_data.head(5)"
      ],
      "execution_count": 212,
      "outputs": [
        {
          "output_type": "execute_result",
          "data": {
            "text/html": [
              "<div>\n",
              "<style scoped>\n",
              "    .dataframe tbody tr th:only-of-type {\n",
              "        vertical-align: middle;\n",
              "    }\n",
              "\n",
              "    .dataframe tbody tr th {\n",
              "        vertical-align: top;\n",
              "    }\n",
              "\n",
              "    .dataframe thead th {\n",
              "        text-align: right;\n",
              "    }\n",
              "</style>\n",
              "<table border=\"1\" class=\"dataframe\">\n",
              "  <thead>\n",
              "    <tr style=\"text-align: right;\">\n",
              "      <th></th>\n",
              "      <th>Date</th>\n",
              "      <th>Location</th>\n",
              "      <th>MinTemp</th>\n",
              "      <th>MaxTemp</th>\n",
              "      <th>Rainfall</th>\n",
              "      <th>Evaporation</th>\n",
              "      <th>Sunshine</th>\n",
              "      <th>WindGustDir</th>\n",
              "      <th>WindGustSpeed</th>\n",
              "      <th>WindDir9am</th>\n",
              "      <th>...</th>\n",
              "      <th>Humidity3pm</th>\n",
              "      <th>Pressure9am</th>\n",
              "      <th>Pressure3pm</th>\n",
              "      <th>Cloud9am</th>\n",
              "      <th>Cloud3pm</th>\n",
              "      <th>Temp9am</th>\n",
              "      <th>Temp3pm</th>\n",
              "      <th>RainToday</th>\n",
              "      <th>RISK_MM</th>\n",
              "      <th>RainTomorrow</th>\n",
              "    </tr>\n",
              "  </thead>\n",
              "  <tbody>\n",
              "    <tr>\n",
              "      <th>0</th>\n",
              "      <td>2008-12-01</td>\n",
              "      <td>Albury</td>\n",
              "      <td>13.4</td>\n",
              "      <td>22.9</td>\n",
              "      <td>0.6</td>\n",
              "      <td>NaN</td>\n",
              "      <td>NaN</td>\n",
              "      <td>W</td>\n",
              "      <td>44.0</td>\n",
              "      <td>W</td>\n",
              "      <td>...</td>\n",
              "      <td>22.0</td>\n",
              "      <td>1007.7</td>\n",
              "      <td>1007.1</td>\n",
              "      <td>8.0</td>\n",
              "      <td>NaN</td>\n",
              "      <td>16.9</td>\n",
              "      <td>21.8</td>\n",
              "      <td>No</td>\n",
              "      <td>0.0</td>\n",
              "      <td>No</td>\n",
              "    </tr>\n",
              "    <tr>\n",
              "      <th>1</th>\n",
              "      <td>2008-12-02</td>\n",
              "      <td>Albury</td>\n",
              "      <td>7.4</td>\n",
              "      <td>25.1</td>\n",
              "      <td>0.0</td>\n",
              "      <td>NaN</td>\n",
              "      <td>NaN</td>\n",
              "      <td>WNW</td>\n",
              "      <td>44.0</td>\n",
              "      <td>NNW</td>\n",
              "      <td>...</td>\n",
              "      <td>25.0</td>\n",
              "      <td>1010.6</td>\n",
              "      <td>1007.8</td>\n",
              "      <td>NaN</td>\n",
              "      <td>NaN</td>\n",
              "      <td>17.2</td>\n",
              "      <td>24.3</td>\n",
              "      <td>No</td>\n",
              "      <td>0.0</td>\n",
              "      <td>No</td>\n",
              "    </tr>\n",
              "    <tr>\n",
              "      <th>2</th>\n",
              "      <td>2008-12-03</td>\n",
              "      <td>Albury</td>\n",
              "      <td>12.9</td>\n",
              "      <td>25.7</td>\n",
              "      <td>0.0</td>\n",
              "      <td>NaN</td>\n",
              "      <td>NaN</td>\n",
              "      <td>WSW</td>\n",
              "      <td>46.0</td>\n",
              "      <td>W</td>\n",
              "      <td>...</td>\n",
              "      <td>30.0</td>\n",
              "      <td>1007.6</td>\n",
              "      <td>1008.7</td>\n",
              "      <td>NaN</td>\n",
              "      <td>2.0</td>\n",
              "      <td>21.0</td>\n",
              "      <td>23.2</td>\n",
              "      <td>No</td>\n",
              "      <td>0.0</td>\n",
              "      <td>No</td>\n",
              "    </tr>\n",
              "    <tr>\n",
              "      <th>3</th>\n",
              "      <td>2008-12-04</td>\n",
              "      <td>Albury</td>\n",
              "      <td>9.2</td>\n",
              "      <td>28.0</td>\n",
              "      <td>0.0</td>\n",
              "      <td>NaN</td>\n",
              "      <td>NaN</td>\n",
              "      <td>NE</td>\n",
              "      <td>24.0</td>\n",
              "      <td>SE</td>\n",
              "      <td>...</td>\n",
              "      <td>16.0</td>\n",
              "      <td>1017.6</td>\n",
              "      <td>1012.8</td>\n",
              "      <td>NaN</td>\n",
              "      <td>NaN</td>\n",
              "      <td>18.1</td>\n",
              "      <td>26.5</td>\n",
              "      <td>No</td>\n",
              "      <td>1.0</td>\n",
              "      <td>No</td>\n",
              "    </tr>\n",
              "    <tr>\n",
              "      <th>4</th>\n",
              "      <td>2008-12-05</td>\n",
              "      <td>Albury</td>\n",
              "      <td>17.5</td>\n",
              "      <td>32.3</td>\n",
              "      <td>1.0</td>\n",
              "      <td>NaN</td>\n",
              "      <td>NaN</td>\n",
              "      <td>W</td>\n",
              "      <td>41.0</td>\n",
              "      <td>ENE</td>\n",
              "      <td>...</td>\n",
              "      <td>33.0</td>\n",
              "      <td>1010.8</td>\n",
              "      <td>1006.0</td>\n",
              "      <td>7.0</td>\n",
              "      <td>8.0</td>\n",
              "      <td>17.8</td>\n",
              "      <td>29.7</td>\n",
              "      <td>No</td>\n",
              "      <td>0.2</td>\n",
              "      <td>No</td>\n",
              "    </tr>\n",
              "  </tbody>\n",
              "</table>\n",
              "<p>5 rows × 24 columns</p>\n",
              "</div>"
            ],
            "text/plain": [
              "         Date Location  MinTemp  MaxTemp  Rainfall  Evaporation  Sunshine  \\\n",
              "0  2008-12-01   Albury     13.4     22.9       0.6          NaN       NaN   \n",
              "1  2008-12-02   Albury      7.4     25.1       0.0          NaN       NaN   \n",
              "2  2008-12-03   Albury     12.9     25.7       0.0          NaN       NaN   \n",
              "3  2008-12-04   Albury      9.2     28.0       0.0          NaN       NaN   \n",
              "4  2008-12-05   Albury     17.5     32.3       1.0          NaN       NaN   \n",
              "\n",
              "  WindGustDir  WindGustSpeed WindDir9am      ...      Humidity3pm  \\\n",
              "0           W           44.0          W      ...             22.0   \n",
              "1         WNW           44.0        NNW      ...             25.0   \n",
              "2         WSW           46.0          W      ...             30.0   \n",
              "3          NE           24.0         SE      ...             16.0   \n",
              "4           W           41.0        ENE      ...             33.0   \n",
              "\n",
              "   Pressure9am  Pressure3pm  Cloud9am  Cloud3pm  Temp9am  Temp3pm  RainToday  \\\n",
              "0       1007.7       1007.1       8.0       NaN     16.9     21.8         No   \n",
              "1       1010.6       1007.8       NaN       NaN     17.2     24.3         No   \n",
              "2       1007.6       1008.7       NaN       2.0     21.0     23.2         No   \n",
              "3       1017.6       1012.8       NaN       NaN     18.1     26.5         No   \n",
              "4       1010.8       1006.0       7.0       8.0     17.8     29.7         No   \n",
              "\n",
              "   RISK_MM  RainTomorrow  \n",
              "0      0.0            No  \n",
              "1      0.0            No  \n",
              "2      0.0            No  \n",
              "3      1.0            No  \n",
              "4      0.2            No  \n",
              "\n",
              "[5 rows x 24 columns]"
            ]
          },
          "metadata": {
            "tags": []
          },
          "execution_count": 212
        }
      ]
    },
    {
      "metadata": {
        "id": "JSWYIDFPS0d8",
        "colab_type": "code",
        "outputId": "16110223-28c1-4c94-ef5e-352dc6716bf4",
        "colab": {
          "base_uri": "https://localhost:8080/",
          "height": 119
        }
      },
      "cell_type": "code",
      "source": [
        "weather_data.columns"
      ],
      "execution_count": 213,
      "outputs": [
        {
          "output_type": "execute_result",
          "data": {
            "text/plain": [
              "Index(['Date', 'Location', 'MinTemp', 'MaxTemp', 'Rainfall', 'Evaporation',\n",
              "       'Sunshine', 'WindGustDir', 'WindGustSpeed', 'WindDir9am', 'WindDir3pm',\n",
              "       'WindSpeed9am', 'WindSpeed3pm', 'Humidity9am', 'Humidity3pm',\n",
              "       'Pressure9am', 'Pressure3pm', 'Cloud9am', 'Cloud3pm', 'Temp9am',\n",
              "       'Temp3pm', 'RainToday', 'RISK_MM', 'RainTomorrow'],\n",
              "      dtype='object')"
            ]
          },
          "metadata": {
            "tags": []
          },
          "execution_count": 213
        }
      ]
    },
    {
      "metadata": {
        "id": "rLFicC-VS13A",
        "colab_type": "code",
        "outputId": "3a3bccdf-b0b5-4f08-caed-b24413c9839f",
        "colab": {
          "base_uri": "https://localhost:8080/",
          "height": 442
        }
      },
      "cell_type": "code",
      "source": [
        "weather_data.isnull().sum()"
      ],
      "execution_count": 214,
      "outputs": [
        {
          "output_type": "execute_result",
          "data": {
            "text/plain": [
              "Date                 0\n",
              "Location             0\n",
              "MinTemp            637\n",
              "MaxTemp            322\n",
              "Rainfall          1406\n",
              "Evaporation      60843\n",
              "Sunshine         67816\n",
              "WindGustDir       9330\n",
              "WindGustSpeed     9270\n",
              "WindDir9am       10013\n",
              "WindDir3pm        3778\n",
              "WindSpeed9am      1348\n",
              "WindSpeed3pm      2630\n",
              "Humidity9am       1774\n",
              "Humidity3pm       3610\n",
              "Pressure9am      14014\n",
              "Pressure3pm      13981\n",
              "Cloud9am         53657\n",
              "Cloud3pm         57094\n",
              "Temp9am            904\n",
              "Temp3pm           2726\n",
              "RainToday         1406\n",
              "RISK_MM              0\n",
              "RainTomorrow         0\n",
              "dtype: int64"
            ]
          },
          "metadata": {
            "tags": []
          },
          "execution_count": 214
        }
      ]
    },
    {
      "metadata": {
        "id": "PDie_BKVZWED",
        "colab_type": "code",
        "outputId": "70debdf5-200f-44a5-b35b-e6975428f07c",
        "colab": {
          "base_uri": "https://localhost:8080/",
          "height": 740
        }
      },
      "cell_type": "code",
      "source": [
        "import missingno as mn\n",
        "plt.figure(figsize=[10,8])\n",
        "mn.matrix(weather_data)"
      ],
      "execution_count": 215,
      "outputs": [
        {
          "output_type": "execute_result",
          "data": {
            "text/plain": [
              "<matplotlib.axes._subplots.AxesSubplot at 0x7f10777ba9e8>"
            ]
          },
          "metadata": {
            "tags": []
          },
          "execution_count": 215
        },
        {
          "output_type": "display_data",
          "data": {
            "text/plain": [
              "<Figure size 720x576 with 0 Axes>"
            ]
          },
          "metadata": {
            "tags": []
          }
        },
        {
          "output_type": "display_data",
          "data": {
            "image/png": "[encoded data removed]",
            "text/plain": [
              "<Figure size 1800x720 with 2 Axes>"
            ]
          },
          "metadata": {
            "tags": []
          }
        }
      ]
    },
    {
      "metadata": {
        "id": "ZefdD-dLS89M",
        "colab_type": "code",
        "colab": {}
      },
      "cell_type": "code",
      "source": [
        "#required_columns.shape\n",
        "weather_forest=weather_data.drop([\"Evaporation\",\"Sunshine\",\"Cloud9am\",\"Location\",\"Cloud3pm\"],axis=1)"
      ],
      "execution_count": 0,
      "outputs": []
    },
    {
      "metadata": {
        "id": "G89N5lS0TBGL",
        "colab_type": "code",
        "outputId": "fe7f2787-a795-45e9-8ec4-a4a9773d1f65",
        "colab": {
          "base_uri": "https://localhost:8080/",
          "height": 357
        }
      },
      "cell_type": "code",
      "source": [
        "weather_forest.isnull().sum()\n"
      ],
      "execution_count": 217,
      "outputs": [
        {
          "output_type": "execute_result",
          "data": {
            "text/plain": [
              "Date                 0\n",
              "MinTemp            637\n",
              "MaxTemp            322\n",
              "Rainfall          1406\n",
              "WindGustDir       9330\n",
              "WindGustSpeed     9270\n",
              "WindDir9am       10013\n",
              "WindDir3pm        3778\n",
              "WindSpeed9am      1348\n",
              "WindSpeed3pm      2630\n",
              "Humidity9am       1774\n",
              "Humidity3pm       3610\n",
              "Pressure9am      14014\n",
              "Pressure3pm      13981\n",
              "Temp9am            904\n",
              "Temp3pm           2726\n",
              "RainToday         1406\n",
              "RISK_MM              0\n",
              "RainTomorrow         0\n",
              "dtype: int64"
            ]
          },
          "metadata": {
            "tags": []
          },
          "execution_count": 217
        }
      ]
    },
    {
      "metadata": {
        "id": "xZ3bZWzgY7Tm",
        "colab_type": "code",
        "colab": {}
      },
      "cell_type": "code",
      "source": [
        "\n",
        "#imp=preprocessing.Imputer(missing_values='NaN',strategy='median',axis=0)"
      ],
      "execution_count": 0,
      "outputs": []
    },
    {
      "metadata": {
        "id": "hu66SiZJTFz6",
        "colab_type": "code",
        "colab": {}
      },
      "cell_type": "code",
      "source": [
        "weather_forest_final=weather_forest.dropna(how='any')\n",
        "#imp.fit(weather_forest)"
      ],
      "execution_count": 0,
      "outputs": []
    },
    {
      "metadata": {
        "id": "qQzHRAr7XOsR",
        "colab_type": "code",
        "outputId": "2da10bc4-7c36-4e91-9069-73912fdccb60",
        "colab": {
          "base_uri": "https://localhost:8080/",
          "height": 357
        }
      },
      "cell_type": "code",
      "source": [
        "weather_forest_final.isnull().sum()"
      ],
      "execution_count": 220,
      "outputs": [
        {
          "output_type": "execute_result",
          "data": {
            "text/plain": [
              "Date             0\n",
              "MinTemp          0\n",
              "MaxTemp          0\n",
              "Rainfall         0\n",
              "WindGustDir      0\n",
              "WindGustSpeed    0\n",
              "WindDir9am       0\n",
              "WindDir3pm       0\n",
              "WindSpeed9am     0\n",
              "WindSpeed3pm     0\n",
              "Humidity9am      0\n",
              "Humidity3pm      0\n",
              "Pressure9am      0\n",
              "Pressure3pm      0\n",
              "Temp9am          0\n",
              "Temp3pm          0\n",
              "RainToday        0\n",
              "RISK_MM          0\n",
              "RainTomorrow     0\n",
              "dtype: int64"
            ]
          },
          "metadata": {
            "tags": []
          },
          "execution_count": 220
        }
      ]
    },
    {
      "metadata": {
        "id": "-x47h-GeXgNC",
        "colab_type": "code",
        "colab": {}
      },
      "cell_type": "code",
      "source": [
        "#training,testing=train_test_split(weather_forest_final,test_size=0.2, random_state=42)"
      ],
      "execution_count": 0,
      "outputs": []
    },
    {
      "metadata": {
        "id": "u-WvvNz4q7-R",
        "colab_type": "code",
        "colab": {}
      },
      "cell_type": "code",
      "source": [
        "x=weather_forest_final[weather_forest_final.columns[:-1]]\n",
        "y=weather_forest_final[weather_forest_final.columns[-1]]"
      ],
      "execution_count": 0,
      "outputs": []
    },
    {
      "metadata": {
        "id": "6MaRoao2rNb4",
        "colab_type": "code",
        "outputId": "8d009b23-7f11-40e7-e5f1-1de91390c1ee",
        "colab": {
          "base_uri": "https://localhost:8080/",
          "height": 119
        }
      },
      "cell_type": "code",
      "source": [
        "y.head()"
      ],
      "execution_count": 223,
      "outputs": [
        {
          "output_type": "execute_result",
          "data": {
            "text/plain": [
              "0    No\n",
              "1    No\n",
              "2    No\n",
              "3    No\n",
              "4    No\n",
              "Name: RainTomorrow, dtype: object"
            ]
          },
          "metadata": {
            "tags": []
          },
          "execution_count": 223
        }
      ]
    },
    {
      "metadata": {
        "id": "d-nEXE1urmGL",
        "colab_type": "code",
        "outputId": "1bc58120-7fdc-4676-c40d-3d17b1804f53",
        "colab": {
          "base_uri": "https://localhost:8080/",
          "height": 122
        }
      },
      "cell_type": "code",
      "source": [
        "x[\"RainToday\"].replace({'No':0,'Yes':1},inplace=True)\n",
        "y.replace({'No':0,'Yes':1},inplace=True)"
      ],
      "execution_count": 224,
      "outputs": [
        {
          "output_type": "stream",
          "text": [
            "/usr/local/lib/python3.6/dist-packages/pandas/core/generic.py:4619: SettingWithCopyWarning: \n",
            "A value is trying to be set on a copy of a slice from a DataFrame\n",
            "\n",
            "See the caveats in the documentation: http://pandas.pydata.org/pandas-docs/stable/indexing.html#indexing-view-versus-copy\n",
            "  self._update_inplace(new_data)\n"
          ],
          "name": "stderr"
        }
      ]
    },
    {
      "metadata": {
        "id": "lmYHIrsDrvVW",
        "colab_type": "code",
        "colab": {}
      },
      "cell_type": "code",
      "source": [
        "x = pd.get_dummies(x, columns=['WindGustDir', 'WindDir3pm', 'WindDir9am'])"
      ],
      "execution_count": 0,
      "outputs": []
    },
    {
      "metadata": {
        "id": "8T36OLwOtODU",
        "colab_type": "code",
        "colab": {}
      },
      "cell_type": "code",
      "source": [
        "x.set_index(\"Date\",inplace=True)\n"
      ],
      "execution_count": 0,
      "outputs": []
    },
    {
      "metadata": {
        "id": "aHY-ORYVQc78",
        "colab_type": "code",
        "colab": {}
      },
      "cell_type": "code",
      "source": [
        "corr_matrix=x.corr()"
      ],
      "execution_count": 0,
      "outputs": []
    },
    {
      "metadata": {
        "id": "V1p2peyUROzz",
        "colab_type": "code",
        "colab": {
          "base_uri": "https://localhost:8080/",
          "height": 284
        },
        "outputId": "ed3b3034-188f-4252-c9bd-1d596d81eb13"
      },
      "cell_type": "code",
      "source": [
        "corr_matrix[corr_matrix[\"RainToday\"]>0.1]"
      ],
      "execution_count": 228,
      "outputs": [
        {
          "output_type": "execute_result",
          "data": {
            "text/html": [
              "<div>\n",
              "<style scoped>\n",
              "    .dataframe tbody tr th:only-of-type {\n",
              "        vertical-align: middle;\n",
              "    }\n",
              "\n",
              "    .dataframe tbody tr th {\n",
              "        vertical-align: top;\n",
              "    }\n",
              "\n",
              "    .dataframe thead th {\n",
              "        text-align: right;\n",
              "    }\n",
              "</style>\n",
              "<table border=\"1\" class=\"dataframe\">\n",
              "  <thead>\n",
              "    <tr style=\"text-align: right;\">\n",
              "      <th></th>\n",
              "      <th>MinTemp</th>\n",
              "      <th>MaxTemp</th>\n",
              "      <th>Rainfall</th>\n",
              "      <th>WindGustSpeed</th>\n",
              "      <th>WindSpeed9am</th>\n",
              "      <th>WindSpeed3pm</th>\n",
              "      <th>Humidity9am</th>\n",
              "      <th>Humidity3pm</th>\n",
              "      <th>Pressure9am</th>\n",
              "      <th>Pressure3pm</th>\n",
              "      <th>...</th>\n",
              "      <th>WindDir9am_NNW</th>\n",
              "      <th>WindDir9am_NW</th>\n",
              "      <th>WindDir9am_S</th>\n",
              "      <th>WindDir9am_SE</th>\n",
              "      <th>WindDir9am_SSE</th>\n",
              "      <th>WindDir9am_SSW</th>\n",
              "      <th>WindDir9am_SW</th>\n",
              "      <th>WindDir9am_W</th>\n",
              "      <th>WindDir9am_WNW</th>\n",
              "      <th>WindDir9am_WSW</th>\n",
              "    </tr>\n",
              "  </thead>\n",
              "  <tbody>\n",
              "    <tr>\n",
              "      <th>Rainfall</th>\n",
              "      <td>0.103807</td>\n",
              "      <td>-0.076825</td>\n",
              "      <td>1.000000</td>\n",
              "      <td>0.130388</td>\n",
              "      <td>0.085376</td>\n",
              "      <td>0.060288</td>\n",
              "      <td>0.238756</td>\n",
              "      <td>0.259652</td>\n",
              "      <td>-0.167595</td>\n",
              "      <td>-0.126520</td>\n",
              "      <td>...</td>\n",
              "      <td>-0.003549</td>\n",
              "      <td>0.002749</td>\n",
              "      <td>0.029608</td>\n",
              "      <td>-0.007525</td>\n",
              "      <td>0.007474</td>\n",
              "      <td>0.029184</td>\n",
              "      <td>0.042178</td>\n",
              "      <td>0.024201</td>\n",
              "      <td>0.016591</td>\n",
              "      <td>0.030381</td>\n",
              "    </tr>\n",
              "    <tr>\n",
              "      <th>WindGustSpeed</th>\n",
              "      <td>0.159176</td>\n",
              "      <td>0.056742</td>\n",
              "      <td>0.130388</td>\n",
              "      <td>1.000000</td>\n",
              "      <td>0.589735</td>\n",
              "      <td>0.679223</td>\n",
              "      <td>-0.183729</td>\n",
              "      <td>-0.020903</td>\n",
              "      <td>-0.445046</td>\n",
              "      <td>-0.399751</td>\n",
              "      <td>...</td>\n",
              "      <td>0.063264</td>\n",
              "      <td>0.043166</td>\n",
              "      <td>-0.013690</td>\n",
              "      <td>-0.041476</td>\n",
              "      <td>-0.030468</td>\n",
              "      <td>-0.016644</td>\n",
              "      <td>-0.035478</td>\n",
              "      <td>0.045339</td>\n",
              "      <td>0.028946</td>\n",
              "      <td>0.005346</td>\n",
              "    </tr>\n",
              "    <tr>\n",
              "      <th>Humidity9am</th>\n",
              "      <td>-0.218312</td>\n",
              "      <td>-0.517188</td>\n",
              "      <td>0.238756</td>\n",
              "      <td>-0.183729</td>\n",
              "      <td>-0.221500</td>\n",
              "      <td>-0.093364</td>\n",
              "      <td>1.000000</td>\n",
              "      <td>0.684373</td>\n",
              "      <td>0.115345</td>\n",
              "      <td>0.168052</td>\n",
              "      <td>...</td>\n",
              "      <td>0.038141</td>\n",
              "      <td>0.040163</td>\n",
              "      <td>0.037603</td>\n",
              "      <td>-0.041232</td>\n",
              "      <td>0.001911</td>\n",
              "      <td>0.041352</td>\n",
              "      <td>0.050569</td>\n",
              "      <td>0.051437</td>\n",
              "      <td>0.047073</td>\n",
              "      <td>0.052572</td>\n",
              "    </tr>\n",
              "    <tr>\n",
              "      <th>Humidity3pm</th>\n",
              "      <td>0.026733</td>\n",
              "      <td>-0.497679</td>\n",
              "      <td>0.259652</td>\n",
              "      <td>-0.020903</td>\n",
              "      <td>-0.017875</td>\n",
              "      <td>0.053916</td>\n",
              "      <td>0.684373</td>\n",
              "      <td>1.000000</td>\n",
              "      <td>-0.035468</td>\n",
              "      <td>0.046073</td>\n",
              "      <td>...</td>\n",
              "      <td>0.049741</td>\n",
              "      <td>0.047711</td>\n",
              "      <td>0.039623</td>\n",
              "      <td>-0.037351</td>\n",
              "      <td>0.008410</td>\n",
              "      <td>0.053791</td>\n",
              "      <td>0.061806</td>\n",
              "      <td>0.050231</td>\n",
              "      <td>0.044357</td>\n",
              "      <td>0.051400</td>\n",
              "    </tr>\n",
              "    <tr>\n",
              "      <th>RainToday</th>\n",
              "      <td>0.044605</td>\n",
              "      <td>-0.242983</td>\n",
              "      <td>0.497554</td>\n",
              "      <td>0.154943</td>\n",
              "      <td>0.099773</td>\n",
              "      <td>0.087702</td>\n",
              "      <td>0.378306</td>\n",
              "      <td>0.386619</td>\n",
              "      <td>-0.188677</td>\n",
              "      <td>-0.104902</td>\n",
              "      <td>...</td>\n",
              "      <td>0.018932</td>\n",
              "      <td>0.022151</td>\n",
              "      <td>0.032050</td>\n",
              "      <td>-0.037324</td>\n",
              "      <td>-0.004323</td>\n",
              "      <td>0.047698</td>\n",
              "      <td>0.075793</td>\n",
              "      <td>0.070374</td>\n",
              "      <td>0.040175</td>\n",
              "      <td>0.076635</td>\n",
              "    </tr>\n",
              "    <tr>\n",
              "      <th>RISK_MM</th>\n",
              "      <td>0.126769</td>\n",
              "      <td>-0.044029</td>\n",
              "      <td>0.317690</td>\n",
              "      <td>0.160990</td>\n",
              "      <td>0.065844</td>\n",
              "      <td>0.048704</td>\n",
              "      <td>0.181815</td>\n",
              "      <td>0.315964</td>\n",
              "      <td>-0.158379</td>\n",
              "      <td>-0.159886</td>\n",
              "      <td>...</td>\n",
              "      <td>0.007844</td>\n",
              "      <td>-0.002600</td>\n",
              "      <td>0.009682</td>\n",
              "      <td>-0.007690</td>\n",
              "      <td>-0.003644</td>\n",
              "      <td>-0.001303</td>\n",
              "      <td>0.004320</td>\n",
              "      <td>-0.006464</td>\n",
              "      <td>-0.000699</td>\n",
              "      <td>-0.006408</td>\n",
              "    </tr>\n",
              "  </tbody>\n",
              "</table>\n",
              "<p>6 rows × 62 columns</p>\n",
              "</div>"
            ],
            "text/plain": [
              "                MinTemp   MaxTemp  Rainfall  WindGustSpeed  WindSpeed9am  \\\n",
              "Rainfall       0.103807 -0.076825  1.000000       0.130388      0.085376   \n",
              "WindGustSpeed  0.159176  0.056742  0.130388       1.000000      0.589735   \n",
              "Humidity9am   -0.218312 -0.517188  0.238756      -0.183729     -0.221500   \n",
              "Humidity3pm    0.026733 -0.497679  0.259652      -0.020903     -0.017875   \n",
              "RainToday      0.044605 -0.242983  0.497554       0.154943      0.099773   \n",
              "RISK_MM        0.126769 -0.044029  0.317690       0.160990      0.065844   \n",
              "\n",
              "               WindSpeed3pm  Humidity9am  Humidity3pm  Pressure9am  \\\n",
              "Rainfall           0.060288     0.238756     0.259652    -0.167595   \n",
              "WindGustSpeed      0.679223    -0.183729    -0.020903    -0.445046   \n",
              "Humidity9am       -0.093364     1.000000     0.684373     0.115345   \n",
              "Humidity3pm        0.053916     0.684373     1.000000    -0.035468   \n",
              "RainToday          0.087702     0.378306     0.386619    -0.188677   \n",
              "RISK_MM            0.048704     0.181815     0.315964    -0.158379   \n",
              "\n",
              "               Pressure3pm       ...        WindDir9am_NNW  WindDir9am_NW  \\\n",
              "Rainfall         -0.126520       ...             -0.003549       0.002749   \n",
              "WindGustSpeed    -0.399751       ...              0.063264       0.043166   \n",
              "Humidity9am       0.168052       ...              0.038141       0.040163   \n",
              "Humidity3pm       0.046073       ...              0.049741       0.047711   \n",
              "RainToday        -0.104902       ...              0.018932       0.022151   \n",
              "RISK_MM          -0.159886       ...              0.007844      -0.002600   \n",
              "\n",
              "               WindDir9am_S  WindDir9am_SE  WindDir9am_SSE  WindDir9am_SSW  \\\n",
              "Rainfall           0.029608      -0.007525        0.007474        0.029184   \n",
              "WindGustSpeed     -0.013690      -0.041476       -0.030468       -0.016644   \n",
              "Humidity9am        0.037603      -0.041232        0.001911        0.041352   \n",
              "Humidity3pm        0.039623      -0.037351        0.008410        0.053791   \n",
              "RainToday          0.032050      -0.037324       -0.004323        0.047698   \n",
              "RISK_MM            0.009682      -0.007690       -0.003644       -0.001303   \n",
              "\n",
              "               WindDir9am_SW  WindDir9am_W  WindDir9am_WNW  WindDir9am_WSW  \n",
              "Rainfall            0.042178      0.024201        0.016591        0.030381  \n",
              "WindGustSpeed      -0.035478      0.045339        0.028946        0.005346  \n",
              "Humidity9am         0.050569      0.051437        0.047073        0.052572  \n",
              "Humidity3pm         0.061806      0.050231        0.044357        0.051400  \n",
              "RainToday           0.075793      0.070374        0.040175        0.076635  \n",
              "RISK_MM             0.004320     -0.006464       -0.000699       -0.006408  \n",
              "\n",
              "[6 rows x 62 columns]"
            ]
          },
          "metadata": {
            "tags": []
          },
          "execution_count": 228
        }
      ]
    },
    {
      "metadata": {
        "id": "ZrlEmu1dm2zq",
        "colab_type": "code",
        "outputId": "3308c4b3-013d-426a-f698-dae80b8b948e",
        "colab": {
          "base_uri": "https://localhost:8080/",
          "height": 71
        }
      },
      "cell_type": "code",
      "source": [
        "min_max_scaler=preprocessing.MinMaxScaler()\n",
        "x_scaled=pd.DataFrame(min_max_scaler.fit_transform(x), columns=x.columns)\n"
      ],
      "execution_count": 229,
      "outputs": [
        {
          "output_type": "stream",
          "text": [
            "/usr/local/lib/python3.6/dist-packages/sklearn/preprocessing/data.py:323: DataConversionWarning: Data with input dtype uint8, int64, float64 were all converted to float64 by MinMaxScaler.\n",
            "  return self.partial_fit(X, y)\n"
          ],
          "name": "stderr"
        }
      ]
    },
    {
      "metadata": {
        "id": "2CKAJsDxuFsC",
        "colab_type": "code",
        "colab": {}
      },
      "cell_type": "code",
      "source": [
        "#rfe=RFE(estimator=RandomForestClassifier,n_features_to_select=6,step=1)\n"
      ],
      "execution_count": 0,
      "outputs": []
    },
    {
      "metadata": {
        "id": "IKKa7nQyxw_L",
        "colab_type": "code",
        "colab": {}
      },
      "cell_type": "code",
      "source": [
        "from sklearn.feature_selection import SelectKBest,chi2\n",
        "selector=SelectKBest(chi2,k=6)\n",
        "selected_features=selector.fit(x_scaled,y)\n",
        "indices_selected=selected_features.get_support(indices=True)\n",
        "columns_selected=[x.columns[i] for i in indices_selected]\n",
        "xval=x[columns_selected]"
      ],
      "execution_count": 0,
      "outputs": []
    },
    {
      "metadata": {
        "id": "j6Zg-bFTzVC2",
        "colab_type": "code",
        "outputId": "3988ac58-364f-4cc1-adfb-8e27b705ee29",
        "colab": {
          "base_uri": "https://localhost:8080/",
          "height": 235
        }
      },
      "cell_type": "code",
      "source": [
        "xval.head()"
      ],
      "execution_count": 231,
      "outputs": [
        {
          "output_type": "execute_result",
          "data": {
            "text/html": [
              "<div>\n",
              "<style scoped>\n",
              "    .dataframe tbody tr th:only-of-type {\n",
              "        vertical-align: middle;\n",
              "    }\n",
              "\n",
              "    .dataframe tbody tr th {\n",
              "        vertical-align: top;\n",
              "    }\n",
              "\n",
              "    .dataframe thead th {\n",
              "        text-align: right;\n",
              "    }\n",
              "</style>\n",
              "<table border=\"1\" class=\"dataframe\">\n",
              "  <thead>\n",
              "    <tr style=\"text-align: right;\">\n",
              "      <th></th>\n",
              "      <th>Rainfall</th>\n",
              "      <th>Humidity9am</th>\n",
              "      <th>Humidity3pm</th>\n",
              "      <th>RainToday</th>\n",
              "      <th>RISK_MM</th>\n",
              "      <th>WindDir9am_N</th>\n",
              "    </tr>\n",
              "    <tr>\n",
              "      <th>Date</th>\n",
              "      <th></th>\n",
              "      <th></th>\n",
              "      <th></th>\n",
              "      <th></th>\n",
              "      <th></th>\n",
              "      <th></th>\n",
              "    </tr>\n",
              "  </thead>\n",
              "  <tbody>\n",
              "    <tr>\n",
              "      <th>2008-12-01</th>\n",
              "      <td>0.6</td>\n",
              "      <td>71.0</td>\n",
              "      <td>22.0</td>\n",
              "      <td>0</td>\n",
              "      <td>0.0</td>\n",
              "      <td>0</td>\n",
              "    </tr>\n",
              "    <tr>\n",
              "      <th>2008-12-02</th>\n",
              "      <td>0.0</td>\n",
              "      <td>44.0</td>\n",
              "      <td>25.0</td>\n",
              "      <td>0</td>\n",
              "      <td>0.0</td>\n",
              "      <td>0</td>\n",
              "    </tr>\n",
              "    <tr>\n",
              "      <th>2008-12-03</th>\n",
              "      <td>0.0</td>\n",
              "      <td>38.0</td>\n",
              "      <td>30.0</td>\n",
              "      <td>0</td>\n",
              "      <td>0.0</td>\n",
              "      <td>0</td>\n",
              "    </tr>\n",
              "    <tr>\n",
              "      <th>2008-12-04</th>\n",
              "      <td>0.0</td>\n",
              "      <td>45.0</td>\n",
              "      <td>16.0</td>\n",
              "      <td>0</td>\n",
              "      <td>1.0</td>\n",
              "      <td>0</td>\n",
              "    </tr>\n",
              "    <tr>\n",
              "      <th>2008-12-05</th>\n",
              "      <td>1.0</td>\n",
              "      <td>82.0</td>\n",
              "      <td>33.0</td>\n",
              "      <td>0</td>\n",
              "      <td>0.2</td>\n",
              "      <td>0</td>\n",
              "    </tr>\n",
              "  </tbody>\n",
              "</table>\n",
              "</div>"
            ],
            "text/plain": [
              "            Rainfall  Humidity9am  Humidity3pm  RainToday  RISK_MM  \\\n",
              "Date                                                                 \n",
              "2008-12-01       0.6         71.0         22.0          0      0.0   \n",
              "2008-12-02       0.0         44.0         25.0          0      0.0   \n",
              "2008-12-03       0.0         38.0         30.0          0      0.0   \n",
              "2008-12-04       0.0         45.0         16.0          0      1.0   \n",
              "2008-12-05       1.0         82.0         33.0          0      0.2   \n",
              "\n",
              "            WindDir9am_N  \n",
              "Date                      \n",
              "2008-12-01             0  \n",
              "2008-12-02             0  \n",
              "2008-12-03             0  \n",
              "2008-12-04             0  \n",
              "2008-12-05             0  "
            ]
          },
          "metadata": {
            "tags": []
          },
          "execution_count": 231
        }
      ]
    },
    {
      "metadata": {
        "id": "IpSpSUJ1dvUc",
        "colab_type": "code",
        "colab": {}
      },
      "cell_type": "code",
      "source": [
        "training_x,testing_x=train_test_split(xval,test_size=0.2, random_state=42)\n",
        "training_y,teating_y=train_test_split(y,test_size=0.2, random_state=42)"
      ],
      "execution_count": 0,
      "outputs": []
    },
    {
      "metadata": {
        "id": "ySlWeeAuWJ_m",
        "colab_type": "code",
        "colab": {}
      },
      "cell_type": "code",
      "source": [
        "random_forest=RandomForestClassifier()\n"
      ],
      "execution_count": 0,
      "outputs": []
    },
    {
      "metadata": {
        "id": "wF7JGRd1WqLv",
        "colab_type": "code",
        "colab": {
          "base_uri": "https://localhost:8080/",
          "height": 190
        },
        "outputId": "40b6b1df-0fa3-44ab-cbb2-fee28d105c62"
      },
      "cell_type": "code",
      "source": [
        "random_forest.fit(training_x,training_y)"
      ],
      "execution_count": 234,
      "outputs": [
        {
          "output_type": "stream",
          "text": [
            "/usr/local/lib/python3.6/dist-packages/sklearn/ensemble/forest.py:246: FutureWarning: The default value of n_estimators will change from 10 in version 0.20 to 100 in 0.22.\n",
            "  \"10 in version 0.20 to 100 in 0.22.\", FutureWarning)\n"
          ],
          "name": "stderr"
        },
        {
          "output_type": "execute_result",
          "data": {
            "text/plain": [
              "RandomForestClassifier(bootstrap=True, class_weight=None, criterion='gini',\n",
              "            max_depth=None, max_features='auto', max_leaf_nodes=None,\n",
              "            min_impurity_decrease=0.0, min_impurity_split=None,\n",
              "            min_samples_leaf=1, min_samples_split=2,\n",
              "            min_weight_fraction_leaf=0.0, n_estimators=10, n_jobs=None,\n",
              "            oob_score=False, random_state=None, verbose=0,\n",
              "            warm_start=False)"
            ]
          },
          "metadata": {
            "tags": []
          },
          "execution_count": 234
        }
      ]
    },
    {
      "metadata": {
        "id": "3tn0aAyaazro",
        "colab_type": "code",
        "colab": {}
      },
      "cell_type": "code",
      "source": [
        "pred=random_forest.predict(testing_x)"
      ],
      "execution_count": 0,
      "outputs": []
    },
    {
      "metadata": {
        "id": "LCfb2dnxgNIn",
        "colab_type": "code",
        "colab": {
          "base_uri": "https://localhost:8080/",
          "height": 51
        },
        "outputId": "ac0a59cd-28c0-431b-c724-c3b559aaaf22"
      },
      "cell_type": "code",
      "source": [
        "print(confusion_matrix(teating_y,pred))\n"
      ],
      "execution_count": 236,
      "outputs": [
        {
          "output_type": "stream",
          "text": [
            "[[17524     0]\n",
            " [    0  5061]]\n"
          ],
          "name": "stdout"
        }
      ]
    },
    {
      "metadata": {
        "id": "UdaphdDRkc9f",
        "colab_type": "code",
        "colab": {
          "base_uri": "https://localhost:8080/",
          "height": 34
        },
        "outputId": "58b0919e-9244-438e-8387-eb09e51f5472"
      },
      "cell_type": "code",
      "source": [
        "training_x.shape"
      ],
      "execution_count": 237,
      "outputs": [
        {
          "output_type": "execute_result",
          "data": {
            "text/plain": [
              "(90340, 6)"
            ]
          },
          "metadata": {
            "tags": []
          },
          "execution_count": 237
        }
      ]
    },
    {
      "metadata": {
        "id": "oOjuF4P9mQ0V",
        "colab_type": "code",
        "colab": {
          "base_uri": "https://localhost:8080/",
          "height": 102
        },
        "outputId": "86549c3c-37a2-45fa-fa2e-c66f5edfbea9"
      },
      "cell_type": "code",
      "source": [
        "target=np.array(training_y.values, dtype='float32')\n",
        "#target[:10]\n",
        "inputs=training_x.values\n",
        "inputs[:5]"
      ],
      "execution_count": 238,
      "outputs": [
        {
          "output_type": "execute_result",
          "data": {
            "text/plain": [
              "array([[ 0. , 50. , 35. ,  0. ,  0. ,  0. ],\n",
              "       [ 6.4, 89. , 76. ,  1. ,  0.2,  0. ],\n",
              "       [ 0. , 68. , 42. ,  0. ,  0. ,  0. ],\n",
              "       [ 0.4, 61. , 43. ,  0. ,  0. ,  0. ],\n",
              "       [ 5.4, 72. , 39. ,  1. ,  0.2,  0. ]])"
            ]
          },
          "metadata": {
            "tags": []
          },
          "execution_count": 238
        }
      ]
    },
    {
      "metadata": {
        "id": "1HDEzf2V4BS-",
        "colab_type": "code",
        "colab": {
          "base_uri": "https://localhost:8080/",
          "height": 34
        },
        "outputId": "d2ae72e4-f405-4d93-a766-e60b0266d024"
      },
      "cell_type": "code",
      "source": [
        "inputs=np.array(training_x.values, dtype='float32')\n",
        "target=np.array(training_y.values, dtype='float32')\n",
        "inputs = torch.Tensor(inputs)\n",
        "targets = torch.from_numpy(target)\n",
        "inputs.shape"
      ],
      "execution_count": 239,
      "outputs": [
        {
          "output_type": "execute_result",
          "data": {
            "text/plain": [
              "torch.Size([90340, 6])"
            ]
          },
          "metadata": {
            "tags": []
          },
          "execution_count": 239
        }
      ]
    },
    {
      "metadata": {
        "id": "GzOHNdkU4f2k",
        "colab_type": "code",
        "colab": {}
      },
      "cell_type": "code",
      "source": [
        "train_ds = TensorDataset(inputs, targets)"
      ],
      "execution_count": 0,
      "outputs": []
    },
    {
      "metadata": {
        "id": "zTfv84606Uza",
        "colab_type": "code",
        "colab": {}
      },
      "cell_type": "code",
      "source": [
        "class Model(torch.nn.Module):\n",
        "  def __init__(self,hidden_neuron, out_layer):\n",
        "    super(Model, self).__init__()\n",
        "    self.fc1=nn.Linear(6,hidden_neuron)\n",
        "    self.fc2=nn.Linear(hidden_neuron,hidden_neuron)\n",
        "    self.fc3=nn.Linear(hidden_neuron,out_layer)\n",
        "    self.relu=nn.ReLU(x)\n",
        "  def forward(self,x):\n",
        "    out=self.fc1(x)\n",
        "    out=nn.functional.relu(out)\n",
        "    out=self.fc2(out)\n",
        "    out=nn.functional.relu(out)\n",
        "    out=self.fc3(out)\n",
        "    out=nn.functional.relu(out)\n",
        "    return out"
      ],
      "execution_count": 0,
      "outputs": []
    },
    {
      "metadata": {
        "id": "Nmj5TQgF69Rt",
        "colab_type": "code",
        "colab": {}
      },
      "cell_type": "code",
      "source": [
        "net=Model(3,2)\n"
      ],
      "execution_count": 0,
      "outputs": []
    },
    {
      "metadata": {
        "id": "Zlk3t6RM6c9Y",
        "colab_type": "code",
        "outputId": "904bc7b2-0e65-43e6-bf46-0f27ac4c19f3",
        "colab": {
          "base_uri": "https://localhost:8080/",
          "height": 71
        }
      },
      "cell_type": "code",
      "source": [
        "optimizer=torch.optim.SGD(net.parameters(),lr=0.01)\n",
        "loss_fn=torch.nn.CrossEntropyLoss(size_average=True)\n",
        "\n",
        "train_loader=torch.utils.data.DataLoader(dataset=train_ds, batch_size=50, shuffle=True)"
      ],
      "execution_count": 265,
      "outputs": [
        {
          "output_type": "stream",
          "text": [
            "/usr/local/lib/python3.6/dist-packages/torch/nn/_reduction.py:49: UserWarning: size_average and reduce args will be deprecated, please use reduction='mean' instead.\n",
            "  warnings.warn(warning.format(ret))\n"
          ],
          "name": "stderr"
        }
      ]
    },
    {
      "metadata": {
        "id": "jgvvoGIX7DHw",
        "colab_type": "code",
        "outputId": "57ae25b4-fb04-462b-ceda-b896939550bc",
        "colab": {
          "base_uri": "https://localhost:8080/",
          "height": 867
        }
      },
      "cell_type": "code",
      "source": [
        "num_epochs=50\n",
        "#correct=0\n",
        "#wrong=0\n",
        "\n",
        "for epoch in range(num_epochs):\n",
        "  for i,(inputs,labels) in enumerate(train_loader):\n",
        "    if i==100000:\n",
        "      break\n",
        "    else:  \n",
        "      correct=0\n",
        "      wrong=0\n",
        "      \n",
        "      inputs=Variable(inputs).float()\n",
        "      labels=Variable(labels).long()\n",
        "      output=net(inputs)\n",
        "      #print(output, labels)\n",
        "      #print(labels.size[0])\n",
        "      \n",
        "      optimizer.zero_grad()\n",
        "      loss_fn1=loss_fn(output,labels)\n",
        "      loss_fn1.backward()\n",
        "      optimizer.step()\n",
        "      pred=(output>0.5).float()\n",
        "      _, predicted = torch.max(pred.data, 1)\n",
        "      correct=(predicted==labels).sum()\n",
        "      accuracy=100*(predicted==labels).sum()/labels.shape[0]\n",
        "  print(\"accuracy\", accuracy, \"loss\",loss_fn1,\"correct_count\",correct, \"total_labels\",labels.shape[0])\n",
        "    #pred=output.item()\n",
        "     \n",
        "    #print(output)\n",
        "\n",
        " "
      ],
      "execution_count": 266,
      "outputs": [
        {
          "output_type": "stream",
          "text": [
            "accuracy tensor(90) loss tensor(0.2895, grad_fn=<NllLossBackward>) correct_count tensor(36) total_labels 40\n",
            "accuracy tensor(17) loss tensor(0.1768, grad_fn=<NllLossBackward>) correct_count tensor(7) total_labels 40\n",
            "accuracy tensor(37) loss tensor(0.1311, grad_fn=<NllLossBackward>) correct_count tensor(15) total_labels 40\n",
            "accuracy tensor(17) loss tensor(0.2500, grad_fn=<NllLossBackward>) correct_count tensor(7) total_labels 40\n",
            "accuracy tensor(20) loss tensor(0.0653, grad_fn=<NllLossBackward>) correct_count tensor(8) total_labels 40\n",
            "accuracy tensor(75) loss tensor(0.0367, grad_fn=<NllLossBackward>) correct_count tensor(30) total_labels 40\n",
            "accuracy tensor(97) loss tensor(0.1245, grad_fn=<NllLossBackward>) correct_count tensor(39) total_labels 40\n",
            "accuracy tensor(95) loss tensor(0.1233, grad_fn=<NllLossBackward>) correct_count tensor(38) total_labels 40\n",
            "accuracy tensor(100) loss tensor(0.0612, grad_fn=<NllLossBackward>) correct_count tensor(40) total_labels 40\n",
            "accuracy tensor(100) loss tensor(0.0425, grad_fn=<NllLossBackward>) correct_count tensor(40) total_labels 40\n",
            "accuracy tensor(92) loss tensor(0.0682, grad_fn=<NllLossBackward>) correct_count tensor(37) total_labels 40\n",
            "accuracy tensor(97) loss tensor(0.0383, grad_fn=<NllLossBackward>) correct_count tensor(39) total_labels 40\n",
            "accuracy tensor(100) loss tensor(0.0161, grad_fn=<NllLossBackward>) correct_count tensor(40) total_labels 40\n",
            "accuracy tensor(97) loss tensor(0.1360, grad_fn=<NllLossBackward>) correct_count tensor(39) total_labels 40\n",
            "accuracy tensor(100) loss tensor(0.0148, grad_fn=<NllLossBackward>) correct_count tensor(40) total_labels 40\n",
            "accuracy tensor(97) loss tensor(0.0375, grad_fn=<NllLossBackward>) correct_count tensor(39) total_labels 40\n",
            "accuracy tensor(97) loss tensor(0.0239, grad_fn=<NllLossBackward>) correct_count tensor(39) total_labels 40\n",
            "accuracy tensor(100) loss tensor(0.0088, grad_fn=<NllLossBackward>) correct_count tensor(40) total_labels 40\n",
            "accuracy tensor(97) loss tensor(0.0580, grad_fn=<NllLossBackward>) correct_count tensor(39) total_labels 40\n",
            "accuracy tensor(97) loss tensor(0.0506, grad_fn=<NllLossBackward>) correct_count tensor(39) total_labels 40\n",
            "accuracy tensor(100) loss tensor(0.0126, grad_fn=<NllLossBackward>) correct_count tensor(40) total_labels 40\n",
            "accuracy tensor(100) loss tensor(0.0153, grad_fn=<NllLossBackward>) correct_count tensor(40) total_labels 40\n",
            "accuracy tensor(100) loss tensor(0.0173, grad_fn=<NllLossBackward>) correct_count tensor(40) total_labels 40\n",
            "accuracy tensor(100) loss tensor(0.0108, grad_fn=<NllLossBackward>) correct_count tensor(40) total_labels 40\n",
            "accuracy tensor(97) loss tensor(0.0704, grad_fn=<NllLossBackward>) correct_count tensor(39) total_labels 40\n",
            "accuracy tensor(97) loss tensor(0.1062, grad_fn=<NllLossBackward>) correct_count tensor(39) total_labels 40\n",
            "accuracy tensor(97) loss tensor(0.0543, grad_fn=<NllLossBackward>) correct_count tensor(39) total_labels 40\n",
            "accuracy tensor(100) loss tensor(0.0262, grad_fn=<NllLossBackward>) correct_count tensor(40) total_labels 40\n",
            "accuracy tensor(95) loss tensor(0.0927, grad_fn=<NllLossBackward>) correct_count tensor(38) total_labels 40\n",
            "accuracy tensor(97) loss tensor(0.0702, grad_fn=<NllLossBackward>) correct_count tensor(39) total_labels 40\n",
            "accuracy tensor(97) loss tensor(0.0594, grad_fn=<NllLossBackward>) correct_count tensor(39) total_labels 40\n",
            "accuracy tensor(100) loss tensor(0.0254, grad_fn=<NllLossBackward>) correct_count tensor(40) total_labels 40\n",
            "accuracy tensor(97) loss tensor(0.0443, grad_fn=<NllLossBackward>) correct_count tensor(39) total_labels 40\n",
            "accuracy tensor(100) loss tensor(0.0239, grad_fn=<NllLossBackward>) correct_count tensor(40) total_labels 40\n",
            "accuracy tensor(100) loss tensor(0.0141, grad_fn=<NllLossBackward>) correct_count tensor(40) total_labels 40\n",
            "accuracy tensor(97) loss tensor(0.0633, grad_fn=<NllLossBackward>) correct_count tensor(39) total_labels 40\n",
            "accuracy tensor(100) loss tensor(0.0144, grad_fn=<NllLossBackward>) correct_count tensor(40) total_labels 40\n",
            "accuracy tensor(95) loss tensor(0.2288, grad_fn=<NllLossBackward>) correct_count tensor(38) total_labels 40\n",
            "accuracy tensor(100) loss tensor(0.0065, grad_fn=<NllLossBackward>) correct_count tensor(40) total_labels 40\n",
            "accuracy tensor(97) loss tensor(0.0737, grad_fn=<NllLossBackward>) correct_count tensor(39) total_labels 40\n",
            "accuracy tensor(100) loss tensor(0.0151, grad_fn=<NllLossBackward>) correct_count tensor(40) total_labels 40\n",
            "accuracy tensor(100) loss tensor(0.0101, grad_fn=<NllLossBackward>) correct_count tensor(40) total_labels 40\n",
            "accuracy tensor(100) loss tensor(0.0174, grad_fn=<NllLossBackward>) correct_count tensor(40) total_labels 40\n",
            "accuracy tensor(97) loss tensor(0.0451, grad_fn=<NllLossBackward>) correct_count tensor(39) total_labels 40\n",
            "accuracy tensor(97) loss tensor(0.0429, grad_fn=<NllLossBackward>) correct_count tensor(39) total_labels 40\n",
            "accuracy tensor(100) loss tensor(0.0042, grad_fn=<NllLossBackward>) correct_count tensor(40) total_labels 40\n",
            "accuracy tensor(100) loss tensor(0.0074, grad_fn=<NllLossBackward>) correct_count tensor(40) total_labels 40\n",
            "accuracy tensor(100) loss tensor(0.0109, grad_fn=<NllLossBackward>) correct_count tensor(40) total_labels 40\n",
            "accuracy tensor(100) loss tensor(0.0057, grad_fn=<NllLossBackward>) correct_count tensor(40) total_labels 40\n",
            "accuracy tensor(100) loss tensor(0.0050, grad_fn=<NllLossBackward>) correct_count tensor(40) total_labels 40\n"
          ],
          "name": "stdout"
        }
      ]
    },
    {
      "metadata": {
        "id": "v6ONxYtw8tgx",
        "colab_type": "code",
        "colab": {}
      },
      "cell_type": "code",
      "source": [
        ""
      ],
      "execution_count": 0,
      "outputs": []
    }
  ]
}