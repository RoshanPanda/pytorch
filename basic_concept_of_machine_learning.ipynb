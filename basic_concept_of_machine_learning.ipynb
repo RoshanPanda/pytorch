{
  "nbformat": 4,
  "nbformat_minor": 0,
  "metadata": {
    "colab": {
      "name": "basic concept of machine learning.ipynb",
      "version": "0.3.2",
      "provenance": [],
      "collapsed_sections": [],
      "include_colab_link": true
    },
    "kernelspec": {
      "name": "python3",
      "display_name": "Python 3"
    }
  },
  "cells": [
    {
      "cell_type": "markdown",
      "metadata": {
        "id": "view-in-github",
        "colab_type": "text"
      },
      "source": [
        "<a href=\"https://colab.research.google.com/github/RoshanPanda/pytorch/blob/master/basic_concept_of_machine_learning.ipynb\" target=\"_parent\"><img src=\"https://colab.research.google.com/assets/colab-badge.svg\" alt=\"Open In Colab\"/></a>"
      ]
    },
    {
      "metadata": {
        "id": "s7APfJ9cjp-W",
        "colab_type": "code",
        "colab": {}
      },
      "cell_type": "code",
      "source": [
        ""
      ],
      "execution_count": 0,
      "outputs": []
    },
    {
      "metadata": {
        "id": "gp2Rs8Yfj7_4",
        "colab_type": "text"
      },
      "cell_type": "markdown",
      "source": [
        "explaining how learning works with a small example."
      ]
    },
    {
      "metadata": {
        "id": "VW_I54uOkHoQ",
        "colab_type": "code",
        "colab": {}
      },
      "cell_type": "code",
      "source": [
        "import numpy as np\n",
        "import matplotlib.pyplot as plt"
      ],
      "execution_count": 0,
      "outputs": []
    },
    {
      "metadata": {
        "id": "chuP2weckNgk",
        "colab_type": "code",
        "colab": {}
      },
      "cell_type": "code",
      "source": [
        "x_data=[1.0,2.0,3.0]\n",
        "y_data=[2.0,4.0,6.0]\n",
        "w=1.0\n"
      ],
      "execution_count": 0,
      "outputs": []
    },
    {
      "metadata": {
        "id": "buyPIwGdkpbT",
        "colab_type": "code",
        "colab": {}
      },
      "cell_type": "code",
      "source": [
        "def forward(x):\n",
        "  return x*w\n"
      ],
      "execution_count": 0,
      "outputs": []
    },
    {
      "metadata": {
        "id": "NfI8yH1uk2RW",
        "colab_type": "code",
        "colab": {
          "base_uri": "https://localhost:8080/",
          "height": 34
        },
        "outputId": "c587500e-457b-40d2-c5b4-7f180a8a2a62"
      },
      "cell_type": "code",
      "source": [
        "def loss(x,y):\n",
        "  y_pred=x*w\n",
        "  return (y_pred-y)*(y_pred-y)\n",
        "\n",
        "l=loss(1.0,2.0)\n",
        "print(l)"
      ],
      "execution_count": 66,
      "outputs": [
        {
          "output_type": "stream",
          "text": [
            "1.0\n"
          ],
          "name": "stdout"
        }
      ]
    },
    {
      "metadata": {
        "id": "YCGQcoCAlGW0",
        "colab_type": "code",
        "colab": {}
      },
      "cell_type": "code",
      "source": [
        "# plotting the losses \n",
        "w_list=[]\n",
        "mse=[]\n"
      ],
      "execution_count": 0,
      "outputs": []
    },
    {
      "metadata": {
        "id": "Kb3AeNCymEZ5",
        "colab_type": "code",
        "outputId": "e24fa4d8-014e-4b87-b604-2b4e96e4be1f",
        "colab": {
          "base_uri": "https://localhost:8080/",
          "height": 3832
        }
      },
      "cell_type": "code",
      "source": [
        "\n",
        "for w in np.arange(0.0,4.1,0.1):\n",
        "  print(\"w:\",w)\n",
        "  l_sum=0\n",
        "  for x_val,y_val in zip(x_data,y_data):\n",
        "    \n",
        "    y_pred=forward(x_val)\n",
        "    \n",
        "    l=loss(x_val,y_val)\n",
        "    l_sum+=l\n",
        "    print(\"\\t\", x_val, y_val, y_pred, l)\n",
        "  print(\"mse=\",l_sum/3)\n",
        "  w_list.append(w)\n",
        "  mse.append(l_sum/3)\n",
        "plt.plot(w_list,mse)\n",
        "plt.show()\n",
        "    "
      ],
      "execution_count": 71,
      "outputs": [
        {
          "output_type": "stream",
          "text": [
            "w: 0.0\n",
            "\t 1.0 2.0 0.0 4.0\n",
            "\t 2.0 4.0 0.0 16.0\n",
            "\t 3.0 6.0 0.0 36.0\n",
            "mse= 18.666666666666668\n",
            "w: 0.1\n",
            "\t 1.0 2.0 0.1 3.61\n",
            "\t 2.0 4.0 0.2 14.44\n",
            "\t 3.0 6.0 0.30000000000000004 32.49\n",
            "mse= 16.846666666666668\n",
            "w: 0.2\n",
            "\t 1.0 2.0 0.2 3.24\n",
            "\t 2.0 4.0 0.4 12.96\n",
            "\t 3.0 6.0 0.6000000000000001 29.160000000000004\n",
            "mse= 15.120000000000003\n",
            "w: 0.30000000000000004\n",
            "\t 1.0 2.0 0.30000000000000004 2.8899999999999997\n",
            "\t 2.0 4.0 0.6000000000000001 11.559999999999999\n",
            "\t 3.0 6.0 0.9000000000000001 26.009999999999998\n",
            "mse= 13.486666666666665\n",
            "w: 0.4\n",
            "\t 1.0 2.0 0.4 2.5600000000000005\n",
            "\t 2.0 4.0 0.8 10.240000000000002\n",
            "\t 3.0 6.0 1.2000000000000002 23.04\n",
            "mse= 11.946666666666667\n",
            "w: 0.5\n",
            "\t 1.0 2.0 0.5 2.25\n",
            "\t 2.0 4.0 1.0 9.0\n",
            "\t 3.0 6.0 1.5 20.25\n",
            "mse= 10.5\n",
            "w: 0.6000000000000001\n",
            "\t 1.0 2.0 0.6000000000000001 1.9599999999999997\n",
            "\t 2.0 4.0 1.2000000000000002 7.839999999999999\n",
            "\t 3.0 6.0 1.8000000000000003 17.639999999999993\n",
            "mse= 9.146666666666663\n",
            "w: 0.7000000000000001\n",
            "\t 1.0 2.0 0.7000000000000001 1.6899999999999995\n",
            "\t 2.0 4.0 1.4000000000000001 6.759999999999998\n",
            "\t 3.0 6.0 2.1 15.209999999999999\n",
            "mse= 7.886666666666666\n",
            "w: 0.8\n",
            "\t 1.0 2.0 0.8 1.44\n",
            "\t 2.0 4.0 1.6 5.76\n",
            "\t 3.0 6.0 2.4000000000000004 12.959999999999997\n",
            "mse= 6.719999999999999\n",
            "w: 0.9\n",
            "\t 1.0 2.0 0.9 1.2100000000000002\n",
            "\t 2.0 4.0 1.8 4.840000000000001\n",
            "\t 3.0 6.0 2.7 10.889999999999999\n",
            "mse= 5.646666666666666\n",
            "w: 1.0\n",
            "\t 1.0 2.0 1.0 1.0\n",
            "\t 2.0 4.0 2.0 4.0\n",
            "\t 3.0 6.0 3.0 9.0\n",
            "mse= 4.666666666666667\n",
            "w: 1.1\n",
            "\t 1.0 2.0 1.1 0.8099999999999998\n",
            "\t 2.0 4.0 2.2 3.2399999999999993\n",
            "\t 3.0 6.0 3.3000000000000003 7.289999999999998\n",
            "mse= 3.779999999999999\n",
            "w: 1.2000000000000002\n",
            "\t 1.0 2.0 1.2000000000000002 0.6399999999999997\n",
            "\t 2.0 4.0 2.4000000000000004 2.5599999999999987\n",
            "\t 3.0 6.0 3.6000000000000005 5.759999999999997\n",
            "mse= 2.986666666666665\n",
            "w: 1.3\n",
            "\t 1.0 2.0 1.3 0.48999999999999994\n",
            "\t 2.0 4.0 2.6 1.9599999999999997\n",
            "\t 3.0 6.0 3.9000000000000004 4.409999999999998\n",
            "mse= 2.2866666666666657\n",
            "w: 1.4000000000000001\n",
            "\t 1.0 2.0 1.4000000000000001 0.3599999999999998\n",
            "\t 2.0 4.0 2.8000000000000003 1.4399999999999993\n",
            "\t 3.0 6.0 4.2 3.2399999999999993\n",
            "mse= 1.6799999999999995\n",
            "w: 1.5\n",
            "\t 1.0 2.0 1.5 0.25\n",
            "\t 2.0 4.0 3.0 1.0\n",
            "\t 3.0 6.0 4.5 2.25\n",
            "mse= 1.1666666666666667\n",
            "w: 1.6\n",
            "\t 1.0 2.0 1.6 0.15999999999999992\n",
            "\t 2.0 4.0 3.2 0.6399999999999997\n",
            "\t 3.0 6.0 4.800000000000001 1.4399999999999984\n",
            "mse= 0.746666666666666\n",
            "w: 1.7000000000000002\n",
            "\t 1.0 2.0 1.7000000000000002 0.0899999999999999\n",
            "\t 2.0 4.0 3.4000000000000004 0.3599999999999996\n",
            "\t 3.0 6.0 5.1000000000000005 0.809999999999999\n",
            "mse= 0.4199999999999995\n",
            "w: 1.8\n",
            "\t 1.0 2.0 1.8 0.03999999999999998\n",
            "\t 2.0 4.0 3.6 0.15999999999999992\n",
            "\t 3.0 6.0 5.4 0.3599999999999996\n",
            "mse= 0.1866666666666665\n",
            "w: 1.9000000000000001\n",
            "\t 1.0 2.0 1.9000000000000001 0.009999999999999974\n",
            "\t 2.0 4.0 3.8000000000000003 0.0399999999999999\n",
            "\t 3.0 6.0 5.7 0.0899999999999999\n",
            "mse= 0.046666666666666586\n",
            "w: 2.0\n",
            "\t 1.0 2.0 2.0 0.0\n",
            "\t 2.0 4.0 4.0 0.0\n",
            "\t 3.0 6.0 6.0 0.0\n",
            "mse= 0.0\n",
            "w: 2.1\n",
            "\t 1.0 2.0 2.1 0.010000000000000018\n",
            "\t 2.0 4.0 4.2 0.04000000000000007\n",
            "\t 3.0 6.0 6.300000000000001 0.09000000000000043\n",
            "mse= 0.046666666666666835\n",
            "w: 2.2\n",
            "\t 1.0 2.0 2.2 0.04000000000000007\n",
            "\t 2.0 4.0 4.4 0.16000000000000028\n",
            "\t 3.0 6.0 6.6000000000000005 0.36000000000000065\n",
            "mse= 0.18666666666666698\n",
            "w: 2.3000000000000003\n",
            "\t 1.0 2.0 2.3000000000000003 0.09000000000000016\n",
            "\t 2.0 4.0 4.6000000000000005 0.36000000000000065\n",
            "\t 3.0 6.0 6.9 0.8100000000000006\n",
            "mse= 0.42000000000000054\n",
            "w: 2.4000000000000004\n",
            "\t 1.0 2.0 2.4000000000000004 0.16000000000000028\n",
            "\t 2.0 4.0 4.800000000000001 0.6400000000000011\n",
            "\t 3.0 6.0 7.200000000000001 1.4400000000000026\n",
            "mse= 0.7466666666666679\n",
            "w: 2.5\n",
            "\t 1.0 2.0 2.5 0.25\n",
            "\t 2.0 4.0 5.0 1.0\n",
            "\t 3.0 6.0 7.5 2.25\n",
            "mse= 1.1666666666666667\n",
            "w: 2.6\n",
            "\t 1.0 2.0 2.6 0.3600000000000001\n",
            "\t 2.0 4.0 5.2 1.4400000000000004\n",
            "\t 3.0 6.0 7.800000000000001 3.2400000000000024\n",
            "mse= 1.6800000000000008\n",
            "w: 2.7\n",
            "\t 1.0 2.0 2.7 0.49000000000000027\n",
            "\t 2.0 4.0 5.4 1.960000000000001\n",
            "\t 3.0 6.0 8.100000000000001 4.410000000000006\n",
            "mse= 2.2866666666666693\n",
            "w: 2.8000000000000003\n",
            "\t 1.0 2.0 2.8000000000000003 0.6400000000000005\n",
            "\t 2.0 4.0 5.6000000000000005 2.560000000000002\n",
            "\t 3.0 6.0 8.4 5.760000000000002\n",
            "mse= 2.986666666666668\n",
            "w: 2.9000000000000004\n",
            "\t 1.0 2.0 2.9000000000000004 0.8100000000000006\n",
            "\t 2.0 4.0 5.800000000000001 3.2400000000000024\n",
            "\t 3.0 6.0 8.700000000000001 7.290000000000005\n",
            "mse= 3.780000000000003\n",
            "w: 3.0\n",
            "\t 1.0 2.0 3.0 1.0\n",
            "\t 2.0 4.0 6.0 4.0\n",
            "\t 3.0 6.0 9.0 9.0\n",
            "mse= 4.666666666666667\n",
            "w: 3.1\n",
            "\t 1.0 2.0 3.1 1.2100000000000002\n",
            "\t 2.0 4.0 6.2 4.840000000000001\n",
            "\t 3.0 6.0 9.3 10.890000000000004\n",
            "mse= 5.646666666666668\n",
            "w: 3.2\n",
            "\t 1.0 2.0 3.2 1.4400000000000004\n",
            "\t 2.0 4.0 6.4 5.760000000000002\n",
            "\t 3.0 6.0 9.600000000000001 12.96000000000001\n",
            "mse= 6.720000000000003\n",
            "w: 3.3000000000000003\n",
            "\t 1.0 2.0 3.3000000000000003 1.6900000000000006\n",
            "\t 2.0 4.0 6.6000000000000005 6.7600000000000025\n",
            "\t 3.0 6.0 9.9 15.210000000000003\n",
            "mse= 7.886666666666668\n",
            "w: 3.4000000000000004\n",
            "\t 1.0 2.0 3.4000000000000004 1.960000000000001\n",
            "\t 2.0 4.0 6.800000000000001 7.840000000000004\n",
            "\t 3.0 6.0 10.200000000000001 17.640000000000008\n",
            "mse= 9.14666666666667\n",
            "w: 3.5\n",
            "\t 1.0 2.0 3.5 2.25\n",
            "\t 2.0 4.0 7.0 9.0\n",
            "\t 3.0 6.0 10.5 20.25\n",
            "mse= 10.5\n",
            "w: 3.6\n",
            "\t 1.0 2.0 3.6 2.5600000000000005\n",
            "\t 2.0 4.0 7.2 10.240000000000002\n",
            "\t 3.0 6.0 10.8 23.040000000000006\n",
            "mse= 11.94666666666667\n",
            "w: 3.7\n",
            "\t 1.0 2.0 3.7 2.8900000000000006\n",
            "\t 2.0 4.0 7.4 11.560000000000002\n",
            "\t 3.0 6.0 11.100000000000001 26.010000000000016\n",
            "mse= 13.486666666666673\n",
            "w: 3.8000000000000003\n",
            "\t 1.0 2.0 3.8000000000000003 3.240000000000001\n",
            "\t 2.0 4.0 7.6000000000000005 12.960000000000004\n",
            "\t 3.0 6.0 11.4 29.160000000000004\n",
            "mse= 15.120000000000005\n",
            "w: 3.9000000000000004\n",
            "\t 1.0 2.0 3.9000000000000004 3.610000000000001\n",
            "\t 2.0 4.0 7.800000000000001 14.440000000000005\n",
            "\t 3.0 6.0 11.700000000000001 32.49000000000001\n",
            "mse= 16.84666666666667\n",
            "w: 4.0\n",
            "\t 1.0 2.0 4.0 4.0\n",
            "\t 2.0 4.0 8.0 16.0\n",
            "\t 3.0 6.0 12.0 36.0\n",
            "mse= 18.666666666666668\n"
          ],
          "name": "stdout"
        },
        {
          "output_type": "display_data",
          "data": {
            "image/png": "[encoded data removed]",
            "text/plain": [
              "<matplotlib.figure.Figure at 0x7f6cc9fe50b8>"
            ]
          },
          "metadata": {
            "tags": []
          }
        }
      ]
    },
    {
      "metadata": {
        "id": "Ri98PQVJnLCP",
        "colab_type": "code",
        "colab": {
          "base_uri": "https://localhost:8080/",
          "height": 34
        },
        "outputId": "921d0a1d-548d-4ecd-d53d-4a6ccc4f7c48"
      },
      "cell_type": "code",
      "source": [
        "#now we want to reduce the loss and find out the correct w value where the loss is low.\n",
        "\n",
        "def grad(x,y):\n",
        "  return 2*x*(x*w-y) #derivative of (wx-y)*(wx-y)\n",
        "m=grad(1.0,2.0)\n",
        "print(m)"
      ],
      "execution_count": 76,
      "outputs": [
        {
          "output_type": "stream",
          "text": [
            "4.0\n"
          ],
          "name": "stdout"
        }
      ]
    },
    {
      "metadata": {
        "id": "8FkAADXqh3Jm",
        "colab_type": "code",
        "colab": {
          "base_uri": "https://localhost:8080/",
          "height": 731
        },
        "outputId": "85bc8192-3fdd-4246-ce79-4ea385c8d069"
      },
      "cell_type": "code",
      "source": [
        "w=5\n",
        "print(\"predict(before training)\", 4,forward(4))\n",
        "for epoch in range(10):\n",
        "  for x_val, y_val in zip(x_data,y_data):\n",
        "    gradiant=grad(x_val,y_val)\n",
        "    w=w-(0.01*gradiant)\n",
        "    print(\"\\tgrad:\",x_val, y_val, gradiant)\n",
        "    l=loss(x_val,y_val)\n",
        "  print(\"progress\", epoch ,'w=', w, l)\n",
        "print(\"predict(after training)\", 4, forward(4))\n"
      ],
      "execution_count": 80,
      "outputs": [
        {
          "output_type": "stream",
          "text": [
            "predict(before training) 4 20\n",
            "\tgrad: 1.0 2.0 6.0\n",
            "\tgrad: 2.0 4.0 23.520000000000003\n",
            "\tgrad: 3.0 6.0 48.686400000000006\n",
            "progress 0 w= 4.217936000000001 44.27316090086402\n",
            "\tgrad: 1.0 2.0 4.435872000000002\n",
            "\tgrad: 2.0 4.0 17.388618240000007\n",
            "\tgrad: 3.0 6.0 35.99443975680001\n",
            "progress 1 w= 3.639746700032001 24.198923162392532\n",
            "\tgrad: 1.0 2.0 3.279493400064002\n",
            "\tgrad: 2.0 4.0 12.855614128250888\n",
            "\tgrad: 3.0 6.0 26.611121245479335\n",
            "progress 2 w= 3.212284412294059 13.226701466620364\n",
            "\tgrad: 1.0 2.0 2.4245688245881176\n",
            "\tgrad: 2.0 4.0 9.50430979238542\n",
            "\tgrad: 3.0 6.0 19.673921270237813\n",
            "progress 3 w= 2.8962564134219453 7.229480027399722\n",
            "\tgrad: 1.0 2.0 1.7925128268438906\n",
            "\tgrad: 2.0 4.0 7.026650281228051\n",
            "\tgrad: 3.0 6.0 14.545166082142064\n",
            "progress 4 w= 2.6626131215198052 3.9515053392919817\n",
            "\tgrad: 1.0 2.0 1.3252262430396105\n",
            "\tgrad: 2.0 4.0 5.194886872715273\n",
            "\tgrad: 3.0 6.0 10.753415826520614\n",
            "progress 5 w= 2.4898778320970503 2.1598226134209506\n",
            "\tgrad: 1.0 2.0 0.9797556641941005\n",
            "\tgrad: 2.0 4.0 3.8406422036408756\n",
            "\tgrad: 3.0 6.0 7.950129361536614\n",
            "progress 6 w= 2.3621725598033345 1.1805206676704993\n",
            "\tgrad: 1.0 2.0 0.724345119606669\n",
            "\tgrad: 2.0 4.0 2.839432868858143\n",
            "\tgrad: 3.0 6.0 5.877626038536359\n",
            "progress 7 w= 2.267758519533323 0.6452516230440924\n",
            "\tgrad: 1.0 2.0 0.5355170390666464\n",
            "\tgrad: 2.0 4.0 2.0992267931412556\n",
            "\tgrad: 3.0 6.0 4.345399461802396\n",
            "progress 8 w= 2.1979570865932203 0.35268307319228154\n",
            "\tgrad: 1.0 2.0 0.3959141731864406\n",
            "\tgrad: 2.0 4.0 1.5519835588908464\n",
            "\tgrad: 3.0 6.0 3.21260596690405\n",
            "progress 9 w= 2.1463520496034065 0.1927703018080621\n",
            "predict(after training) 4 8.585408198413626\n"
          ],
          "name": "stdout"
        }
      ]
    },
    {
      "metadata": {
        "id": "ibJT3dSTkVcy",
        "colab_type": "code",
        "colab": {}
      },
      "cell_type": "code",
      "source": [
        ""
      ],
      "execution_count": 0,
      "outputs": []
    }
  ]
}